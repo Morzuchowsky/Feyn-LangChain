{
 "cells": [
  {
   "cell_type": "markdown",
   "id": "876e469a",
   "metadata": {},
   "source": [
    "# Wykorzystanie LangChaina\n",
    "\n",
    "W tym pliku odpowiemy sobie na pytanie, do czego możemy użyć LangChaina.\n",
    "\n",
    "Wszystkie informacje zawarte w tym poradniku, zostały uzyskane z głównej strony LangChaina: https://python.langchain.com/docs/get_started/introduction, więc możemy je uznać za wiarygodne źródło informacji.\n"
   ]
  },
  {
   "cell_type": "markdown",
   "id": "9c55ba31",
   "metadata": {},
   "source": [
    "LangChain to framework, czyli jest to zbiór narzędzi, z którego korzystają programiści. Ten zbiór narzędzi, który pozwala programistom na tworzenie zaawansowanych aplikacji przy użyciu modeli językowych."
   ]
  },
  {
   "cell_type": "markdown",
   "id": "91d2349a",
   "metadata": {},
   "source": [
    "No dobrze, ale do czego możemy użyć tych narzędzi? Te narzędzia pozwalają nam tworzyć: Odpowiedzi na dokumenty, z których korzystamy, chatboty, analizowanie danych i wiele więcej..."
   ]
  },
  {
   "cell_type": "markdown",
   "id": "728c2c36",
   "metadata": {},
   "source": [
    "W tych poradnikach będziemy korzystać z Pythona ponieważ ma on prosty syntax (To reguły i zasady, które rozumie komputer). "
   ]
  }
 ],
 "metadata": {
  "kernelspec": {
   "display_name": "Tutorials",
   "language": "python",
   "name": "tutorials"
  },
  "language_info": {
   "codemirror_mode": {
    "name": "ipython",
    "version": 3
   },
   "file_extension": ".py",
   "mimetype": "text/x-python",
   "name": "python",
   "nbconvert_exporter": "python",
   "pygments_lexer": "ipython3",
   "version": "3.11.4"
  }
 },
 "nbformat": 4,
 "nbformat_minor": 5
}
